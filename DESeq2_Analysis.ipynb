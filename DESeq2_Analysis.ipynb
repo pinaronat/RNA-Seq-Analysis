{
 "cells": [
  {
   "cell_type": "markdown",
   "metadata": {},
   "source": [
    "# RNAseq Analysis Using DESeq2"
   ]
  },
  {
   "cell_type": "markdown",
   "metadata": {},
   "source": [
    "## Reformatting the Counts\n",
    "\n",
    "DESeq2 is an R package that is widely used for differential expression analysis on transcriptomics data. \n",
    "\n",
    "Here, we first observe and reformat the text file that we constructed by counting reads per gene, to fit the analysis we will do by using R."
   ]
  },
  {
   "cell_type": "code",
   "execution_count": 2,
   "metadata": {},
   "outputs": [
    {
     "name": "stderr",
     "output_type": "stream",
     "text": [
      "Loading required package: S4Vectors\n",
      "\n",
      "Loading required package: stats4\n",
      "\n",
      "Loading required package: BiocGenerics\n",
      "\n",
      "Loading required package: parallel\n",
      "\n",
      "\n",
      "Attaching package: ‘BiocGenerics’\n",
      "\n",
      "\n",
      "The following objects are masked from ‘package:parallel’:\n",
      "\n",
      "    clusterApply, clusterApplyLB, clusterCall, clusterEvalQ,\n",
      "    clusterExport, clusterMap, parApply, parCapply, parLapply,\n",
      "    parLapplyLB, parRapply, parSapply, parSapplyLB\n",
      "\n",
      "\n",
      "The following objects are masked from ‘package:stats’:\n",
      "\n",
      "    IQR, mad, sd, var, xtabs\n",
      "\n",
      "\n",
      "The following objects are masked from ‘package:base’:\n",
      "\n",
      "    anyDuplicated, append, as.data.frame, basename, cbind, colnames,\n",
      "    dirname, do.call, duplicated, eval, evalq, Filter, Find, get, grep,\n",
      "    grepl, intersect, is.unsorted, lapply, Map, mapply, match, mget,\n",
      "    order, paste, pmax, pmax.int, pmin, pmin.int, Position, rank,\n",
      "    rbind, Reduce, rownames, sapply, setdiff, sort, table, tapply,\n",
      "    union, unique, unsplit, which, which.max, which.min\n",
      "\n",
      "\n",
      "\n",
      "Attaching package: ‘S4Vectors’\n",
      "\n",
      "\n",
      "The following object is masked from ‘package:base’:\n",
      "\n",
      "    expand.grid\n",
      "\n",
      "\n",
      "Loading required package: IRanges\n",
      "\n",
      "Loading required package: GenomicRanges\n",
      "\n",
      "Loading required package: GenomeInfoDb\n",
      "\n",
      "Loading required package: SummarizedExperiment\n",
      "\n",
      "Loading required package: Biobase\n",
      "\n",
      "Welcome to Bioconductor\n",
      "\n",
      "    Vignettes contain introductory material; view with\n",
      "    'browseVignettes()'. To cite Bioconductor, see\n",
      "    'citation(\"Biobase\")', and for packages 'citation(\"pkgname\")'.\n",
      "\n",
      "\n",
      "Loading required package: DelayedArray\n",
      "\n",
      "Loading required package: matrixStats\n",
      "\n",
      "\n",
      "Attaching package: ‘matrixStats’\n",
      "\n",
      "\n",
      "The following objects are masked from ‘package:Biobase’:\n",
      "\n",
      "    anyMissing, rowMedians\n",
      "\n",
      "\n",
      "Loading required package: BiocParallel\n",
      "\n",
      "\n",
      "Attaching package: ‘DelayedArray’\n",
      "\n",
      "\n",
      "The following objects are masked from ‘package:matrixStats’:\n",
      "\n",
      "    colMaxs, colMins, colRanges, rowMaxs, rowMins, rowRanges\n",
      "\n",
      "\n",
      "The following objects are masked from ‘package:base’:\n",
      "\n",
      "    aperm, apply, rowsum\n",
      "\n",
      "\n"
     ]
    }
   ],
   "source": [
    "library(\"DESeq2\")\n",
    "library(scales)\n",
    "options(repr.plot.width=4, repr.plot.height=3)"
   ]
  },
  {
   "cell_type": "code",
   "execution_count": 3,
   "metadata": {},
   "outputs": [],
   "source": [
    "matrixFile = path.expand(\"all.gene.counts\")"
   ]
  },
  {
   "cell_type": "code",
   "execution_count": 4,
   "metadata": {},
   "outputs": [
    {
     "data": {
      "text/html": [
       "<table>\n",
       "<caption>A matrix: 6 × 4 of type int</caption>\n",
       "<thead>\n",
       "\t<tr><th></th><th scope=col>control1.bam</th><th scope=col>control2.bam</th><th scope=col>mttl1.bam</th><th scope=col>mttl2.bam</th></tr>\n",
       "</thead>\n",
       "<tbody>\n",
       "\t<tr><th scope=row>MIR1302-11</th><td>  0</td><td>  0</td><td>  0</td><td>  0</td></tr>\n",
       "\t<tr><th scope=row>FAM138A</th><td>  0</td><td>  0</td><td>  0</td><td>  0</td></tr>\n",
       "\t<tr><th scope=row>OR4F5</th><td>  0</td><td>  0</td><td>  0</td><td>  0</td></tr>\n",
       "\t<tr><th scope=row>RP11-34P13.7</th><td>  9</td><td>  5</td><td> 11</td><td>  0</td></tr>\n",
       "\t<tr><th scope=row>RP11-34P13.8</th><td>  0</td><td>  0</td><td>  0</td><td>  0</td></tr>\n",
       "\t<tr><th scope=row>AL627309.1</th><td>478</td><td>303</td><td>610</td><td>369</td></tr>\n",
       "</tbody>\n",
       "</table>\n"
      ],
      "text/latex": [
       "A matrix: 6 × 4 of type int\n",
       "\\begin{tabular}{r|llll}\n",
       "  & control1.bam & control2.bam & mttl1.bam & mttl2.bam\\\\\n",
       "\\hline\n",
       "\tMIR1302-11 &   0 &   0 &   0 &   0\\\\\n",
       "\tFAM138A &   0 &   0 &   0 &   0\\\\\n",
       "\tOR4F5 &   0 &   0 &   0 &   0\\\\\n",
       "\tRP11-34P13.7 &   9 &   5 &  11 &   0\\\\\n",
       "\tRP11-34P13.8 &   0 &   0 &   0 &   0\\\\\n",
       "\tAL627309.1 & 478 & 303 & 610 & 369\\\\\n",
       "\\end{tabular}\n"
      ],
      "text/markdown": [
       "\n",
       "A matrix: 6 × 4 of type int\n",
       "\n",
       "| <!--/--> | control1.bam | control2.bam | mttl1.bam | mttl2.bam |\n",
       "|---|---|---|---|---|\n",
       "| MIR1302-11 |   0 |   0 |   0 |   0 |\n",
       "| FAM138A |   0 |   0 |   0 |   0 |\n",
       "| OR4F5 |   0 |   0 |   0 |   0 |\n",
       "| RP11-34P13.7 |   9 |   5 |  11 |   0 |\n",
       "| RP11-34P13.8 |   0 |   0 |   0 |   0 |\n",
       "| AL627309.1 | 478 | 303 | 610 | 369 |\n",
       "\n"
      ],
      "text/plain": [
       "             control1.bam control2.bam mttl1.bam mttl2.bam\n",
       "MIR1302-11     0            0            0         0      \n",
       "FAM138A        0            0            0         0      \n",
       "OR4F5          0            0            0         0      \n",
       "RP11-34P13.7   9            5           11         0      \n",
       "RP11-34P13.8   0            0            0         0      \n",
       "AL627309.1   478          303          610       369      "
      ]
     },
     "metadata": {},
     "output_type": "display_data"
    }
   ],
   "source": [
    "countData <- as.matrix(read.csv(matrixFile, sep=\"\\t\", row.names=\"Geneid\"))\n",
    "head(countData)"
   ]
  },
  {
   "cell_type": "markdown",
   "metadata": {},
   "source": [
    "We will now check positive control genes of METTL14, which are target genes of METTL14:\n",
    "\n",
    "CCND1 and SMAD3 seem to have a significant decrease in expression upon METTL14 Knockdown by siRNA, and YTHDF3 shows an increase in expression. Since YTHDF3 is blocked by METTL14, its absence should increase YTHDF3s expression."
   ]
  },
  {
   "cell_type": "code",
   "execution_count": 6,
   "metadata": {},
   "outputs": [
    {
     "data": {
      "text/html": [
       "<style>\n",
       ".dl-inline {width: auto; margin:0; padding: 0}\n",
       ".dl-inline>dt, .dl-inline>dd {float: none; width: auto; display: inline-block}\n",
       ".dl-inline>dt::after {content: \":\\0020\"; padding-right: .5ex}\n",
       ".dl-inline>dt:not(:first-of-type) {padding-left: .5ex}\n",
       "</style><dl class=dl-inline><dt>control1.bam</dt><dd>17095</dd><dt>control2.bam</dt><dd>15110</dd><dt>mttl1.bam</dt><dd>7376</dd><dt>mttl2.bam</dt><dd>6709</dd></dl>\n"
      ],
      "text/latex": [
       "\\begin{description*}\n",
       "\\item[control1.bam] 17095\n",
       "\\item[control2.bam] 15110\n",
       "\\item[mttl1.bam] 7376\n",
       "\\item[mttl2.bam] 6709\n",
       "\\end{description*}\n"
      ],
      "text/markdown": [
       "control1.bam\n",
       ":   17095control2.bam\n",
       ":   15110mttl1.bam\n",
       ":   7376mttl2.bam\n",
       ":   6709\n",
       "\n"
      ],
      "text/plain": [
       "control1.bam control2.bam    mttl1.bam    mttl2.bam \n",
       "       17095        15110         7376         6709 "
      ]
     },
     "metadata": {},
     "output_type": "display_data"
    },
    {
     "data": {
      "text/html": [
       "<style>\n",
       ".dl-inline {width: auto; margin:0; padding: 0}\n",
       ".dl-inline>dt, .dl-inline>dd {float: none; width: auto; display: inline-block}\n",
       ".dl-inline>dt::after {content: \":\\0020\"; padding-right: .5ex}\n",
       ".dl-inline>dt:not(:first-of-type) {padding-left: .5ex}\n",
       "</style><dl class=dl-inline><dt>control1.bam</dt><dd>21603</dd><dt>control2.bam</dt><dd>20582</dd><dt>mttl1.bam</dt><dd>10078</dd><dt>mttl2.bam</dt><dd>9111</dd></dl>\n"
      ],
      "text/latex": [
       "\\begin{description*}\n",
       "\\item[control1.bam] 21603\n",
       "\\item[control2.bam] 20582\n",
       "\\item[mttl1.bam] 10078\n",
       "\\item[mttl2.bam] 9111\n",
       "\\end{description*}\n"
      ],
      "text/markdown": [
       "control1.bam\n",
       ":   21603control2.bam\n",
       ":   20582mttl1.bam\n",
       ":   10078mttl2.bam\n",
       ":   9111\n",
       "\n"
      ],
      "text/plain": [
       "control1.bam control2.bam    mttl1.bam    mttl2.bam \n",
       "       21603        20582        10078         9111 "
      ]
     },
     "metadata": {},
     "output_type": "display_data"
    },
    {
     "data": {
      "text/html": [
       "<style>\n",
       ".dl-inline {width: auto; margin:0; padding: 0}\n",
       ".dl-inline>dt, .dl-inline>dd {float: none; width: auto; display: inline-block}\n",
       ".dl-inline>dt::after {content: \":\\0020\"; padding-right: .5ex}\n",
       ".dl-inline>dt:not(:first-of-type) {padding-left: .5ex}\n",
       "</style><dl class=dl-inline><dt>control1.bam</dt><dd>3698</dd><dt>control2.bam</dt><dd>3517</dd><dt>mttl1.bam</dt><dd>6993</dd><dt>mttl2.bam</dt><dd>7077</dd></dl>\n"
      ],
      "text/latex": [
       "\\begin{description*}\n",
       "\\item[control1.bam] 3698\n",
       "\\item[control2.bam] 3517\n",
       "\\item[mttl1.bam] 6993\n",
       "\\item[mttl2.bam] 7077\n",
       "\\end{description*}\n"
      ],
      "text/markdown": [
       "control1.bam\n",
       ":   3698control2.bam\n",
       ":   3517mttl1.bam\n",
       ":   6993mttl2.bam\n",
       ":   7077\n",
       "\n"
      ],
      "text/plain": [
       "control1.bam control2.bam    mttl1.bam    mttl2.bam \n",
       "        3698         3517         6993         7077 "
      ]
     },
     "metadata": {},
     "output_type": "display_data"
    }
   ],
   "source": [
    "countData['CCND1',]\n",
    "countData['SMAD3',]\n",
    "countData['YTHDF3',]"
   ]
  },
  {
   "cell_type": "code",
   "execution_count": 7,
   "metadata": {},
   "outputs": [
    {
     "data": {
      "text/html": [
       "<table>\n",
       "<caption>A matrix: 6 × 4 of type int</caption>\n",
       "<thead>\n",
       "\t<tr><th></th><th scope=col>Control 1</th><th scope=col>Control 2</th><th scope=col>Mettl14-KD 1</th><th scope=col>Mettl14-KD 2</th></tr>\n",
       "</thead>\n",
       "<tbody>\n",
       "\t<tr><th scope=row>MIR1302-11</th><td>  0</td><td>  0</td><td>  0</td><td>  0</td></tr>\n",
       "\t<tr><th scope=row>FAM138A</th><td>  0</td><td>  0</td><td>  0</td><td>  0</td></tr>\n",
       "\t<tr><th scope=row>OR4F5</th><td>  0</td><td>  0</td><td>  0</td><td>  0</td></tr>\n",
       "\t<tr><th scope=row>RP11-34P13.7</th><td>  9</td><td>  5</td><td> 11</td><td>  0</td></tr>\n",
       "\t<tr><th scope=row>RP11-34P13.8</th><td>  0</td><td>  0</td><td>  0</td><td>  0</td></tr>\n",
       "\t<tr><th scope=row>AL627309.1</th><td>478</td><td>303</td><td>610</td><td>369</td></tr>\n",
       "</tbody>\n",
       "</table>\n"
      ],
      "text/latex": [
       "A matrix: 6 × 4 of type int\n",
       "\\begin{tabular}{r|llll}\n",
       "  & Control 1 & Control 2 & Mettl14-KD 1 & Mettl14-KD 2\\\\\n",
       "\\hline\n",
       "\tMIR1302-11 &   0 &   0 &   0 &   0\\\\\n",
       "\tFAM138A &   0 &   0 &   0 &   0\\\\\n",
       "\tOR4F5 &   0 &   0 &   0 &   0\\\\\n",
       "\tRP11-34P13.7 &   9 &   5 &  11 &   0\\\\\n",
       "\tRP11-34P13.8 &   0 &   0 &   0 &   0\\\\\n",
       "\tAL627309.1 & 478 & 303 & 610 & 369\\\\\n",
       "\\end{tabular}\n"
      ],
      "text/markdown": [
       "\n",
       "A matrix: 6 × 4 of type int\n",
       "\n",
       "| <!--/--> | Control 1 | Control 2 | Mettl14-KD 1 | Mettl14-KD 2 |\n",
       "|---|---|---|---|---|\n",
       "| MIR1302-11 |   0 |   0 |   0 |   0 |\n",
       "| FAM138A |   0 |   0 |   0 |   0 |\n",
       "| OR4F5 |   0 |   0 |   0 |   0 |\n",
       "| RP11-34P13.7 |   9 |   5 |  11 |   0 |\n",
       "| RP11-34P13.8 |   0 |   0 |   0 |   0 |\n",
       "| AL627309.1 | 478 | 303 | 610 | 369 |\n",
       "\n"
      ],
      "text/plain": [
       "             Control 1 Control 2 Mettl14-KD 1 Mettl14-KD 2\n",
       "MIR1302-11     0         0         0            0         \n",
       "FAM138A        0         0         0            0         \n",
       "OR4F5          0         0         0            0         \n",
       "RP11-34P13.7   9         5        11            0         \n",
       "RP11-34P13.8   0         0         0            0         \n",
       "AL627309.1   478       303       610          369         "
      ]
     },
     "metadata": {},
     "output_type": "display_data"
    }
   ],
   "source": [
    "colnames(countData) <- c(\"Control 1\", \"Control 2\", \"Mettl14-KD 1\", \"Mettl14-KD 2\")\n",
    "head(countData)"
   ]
  },
  {
   "cell_type": "markdown",
   "metadata": {},
   "source": [
    "We can construct a barplot to see the amount of reads per sample:\n",
    "\n",
    "Each sample seems to have approximately the same number of reads"
   ]
  },
  {
   "cell_type": "code",
   "execution_count": 8,
   "metadata": {},
   "outputs": [
    {
     "data": {
      "image/png": "[encoded data removed]",
      "text/plain": [
       "plot without title"
      ]
     },
     "metadata": {
      "image/png": {
       "height": 180,
       "width": 240
      }
     },
     "output_type": "display_data"
    }
   ],
   "source": [
    "barplot(colSums(countData))"
   ]
  },
  {
   "cell_type": "markdown",
   "metadata": {},
   "source": [
    "We then need to define the conditions for the analysis. Since the order of our countData is control, knockdown, we will also use this order when defining conditions. This means that the results we get (the log fold changes) will be in the format of Knockdown/Control. \n",
    "\n",
    "Thus, a positive log fold change will indicate upregulation in knockdown samples, while a negative log fold change will indicate downregulation in knockdown samples."
   ]
  },
  {
   "cell_type": "code",
   "execution_count": 8,
   "metadata": {},
   "outputs": [
    {
     "name": "stdout",
     "output_type": "stream",
     "text": [
      "[1] control       control       M14_knockdown M14_knockdown\n",
      "Levels: control M14_knockdown\n"
     ]
    }
   ],
   "source": [
    "condition <- factor(c(\"control\", \"control\", \"M14_knockdown\", \"M14_knockdown\"))\n",
    "print(condition)"
   ]
  },
  {
   "cell_type": "code",
   "execution_count": 9,
   "metadata": {},
   "outputs": [
    {
     "data": {
      "text/html": [
       "<table>\n",
       "<caption>A data.frame: 4 × 2</caption>\n",
       "<thead>\n",
       "\t<tr><th scope=col>sampleName</th><th scope=col>condition</th></tr>\n",
       "\t<tr><th scope=col>&lt;fct&gt;</th><th scope=col>&lt;fct&gt;</th></tr>\n",
       "</thead>\n",
       "<tbody>\n",
       "\t<tr><td>Control 1   </td><td>control      </td></tr>\n",
       "\t<tr><td>Control 2   </td><td>control      </td></tr>\n",
       "\t<tr><td>Mettl14-KD 1</td><td>M14_knockdown</td></tr>\n",
       "\t<tr><td>Mettl14-KD 2</td><td>M14_knockdown</td></tr>\n",
       "</tbody>\n",
       "</table>\n"
      ],
      "text/latex": [
       "A data.frame: 4 × 2\n",
       "\\begin{tabular}{ll}\n",
       " sampleName & condition\\\\\n",
       " <fct> & <fct>\\\\\n",
       "\\hline\n",
       "\t Control 1    & control      \\\\\n",
       "\t Control 2    & control      \\\\\n",
       "\t Mettl14-KD 1 & M14\\_knockdown\\\\\n",
       "\t Mettl14-KD 2 & M14\\_knockdown\\\\\n",
       "\\end{tabular}\n"
      ],
      "text/markdown": [
       "\n",
       "A data.frame: 4 × 2\n",
       "\n",
       "| sampleName &lt;fct&gt; | condition &lt;fct&gt; |\n",
       "|---|---|\n",
       "| Control 1    | control       |\n",
       "| Control 2    | control       |\n",
       "| Mettl14-KD 1 | M14_knockdown |\n",
       "| Mettl14-KD 2 | M14_knockdown |\n",
       "\n"
      ],
      "text/plain": [
       "  sampleName   condition    \n",
       "1 Control 1    control      \n",
       "2 Control 2    control      \n",
       "3 Mettl14-KD 1 M14_knockdown\n",
       "4 Mettl14-KD 2 M14_knockdown"
      ]
     },
     "metadata": {},
     "output_type": "display_data"
    }
   ],
   "source": [
    "colData <- data.frame(sampleName = colnames(countData),\n",
    "                      condition = condition)\n",
    "colData"
   ]
  },
  {
   "cell_type": "code",
   "execution_count": 10,
   "metadata": {},
   "outputs": [
    {
     "data": {
      "text/plain": [
       "class: DESeqDataSet \n",
       "dim: 41863 4 \n",
       "metadata(1): version\n",
       "assays(1): counts\n",
       "rownames(41863): MIR1302-11 FAM138A ... AC007965.1 RNU6-1314P\n",
       "rowData names(0):\n",
       "colnames(4): Control 1 Control 2 Mettl14-KD 1 Mettl14-KD 2\n",
       "colData names(2): sampleName condition"
      ]
     },
     "metadata": {},
     "output_type": "display_data"
    },
    {
     "data": {
      "text/html": [
       "<style>\n",
       ".list-inline {list-style: none; margin:0; padding: 0}\n",
       ".list-inline>li {display: inline-block}\n",
       ".list-inline>li:not(:last-child)::after {content: \"\\00b7\"; padding: 0 .5ex}\n",
       "</style>\n",
       "<ol class=list-inline><li>control</li><li>control</li><li>M14_knockdown</li><li>M14_knockdown</li></ol>\n",
       "\n",
       "<details>\n",
       "\t<summary style=display:list-item;cursor:pointer>\n",
       "\t\t<strong>Levels</strong>:\n",
       "\t</summary>\n",
       "\t<style>\n",
       "\t.list-inline {list-style: none; margin:0; padding: 0}\n",
       "\t.list-inline>li {display: inline-block}\n",
       "\t.list-inline>li:not(:last-child)::after {content: \"\\00b7\"; padding: 0 .5ex}\n",
       "\t</style>\n",
       "\t<ol class=list-inline><li>'control'</li><li>'M14_knockdown'</li></ol>\n",
       "</details>"
      ],
      "text/latex": [
       "\\begin{enumerate*}\n",
       "\\item control\n",
       "\\item control\n",
       "\\item M14\\_knockdown\n",
       "\\item M14\\_knockdown\n",
       "\\end{enumerate*}\n",
       "\n",
       "\\emph{Levels}: \\begin{enumerate*}\n",
       "\\item 'control'\n",
       "\\item 'M14\\_knockdown'\n",
       "\\end{enumerate*}\n"
      ],
      "text/markdown": [
       "1. control\n",
       "2. control\n",
       "3. M14_knockdown\n",
       "4. M14_knockdown\n",
       "\n",
       "\n",
       "\n",
       "**Levels**: 1. 'control'\n",
       "2. 'M14_knockdown'\n",
       "\n",
       "\n"
      ],
      "text/plain": [
       "[1] control       control       M14_knockdown M14_knockdown\n",
       "Levels: control M14_knockdown"
      ]
     },
     "metadata": {},
     "output_type": "display_data"
    }
   ],
   "source": [
    "dds <- DESeqDataSetFromMatrix(countData = countData,\n",
    "                              colData = colData,\n",
    "                              design = ~ condition)\n",
    "colnames(dds) <- colnames(countData)\n",
    "dds\n",
    "dds$condition"
   ]
  },
  {
   "cell_type": "markdown",
   "metadata": {},
   "source": [
    "## Differential Expression Analysis\n",
    "\n",
    "After reformatting the data to fit our analysis, it's now time to do the actual analysis. Here we will use one main function: DESeq function."
   ]
  },
  {
   "cell_type": "code",
   "execution_count": 11,
   "metadata": {},
   "outputs": [
    {
     "name": "stderr",
     "output_type": "stream",
     "text": [
      "estimating size factors\n",
      "\n",
      "estimating dispersions\n",
      "\n",
      "gene-wise dispersion estimates\n",
      "\n",
      "mean-dispersion relationship\n",
      "\n",
      "final dispersion estimates\n",
      "\n",
      "fitting model and testing\n",
      "\n"
     ]
    }
   ],
   "source": [
    "dds <- DESeq(dds)"
   ]
  },
  {
   "cell_type": "markdown",
   "metadata": {},
   "source": [
    "## Quality Control & Normalization\n",
    "\n",
    "After the differential expression analysis, we need to do a quality control on the results to make sure we will get correct results, and correct/normalize for possible biases if they arise."
   ]
  },
  {
   "cell_type": "code",
   "execution_count": 19,
   "metadata": {},
   "outputs": [
    {
     "data": {
      "image/png": "[encoded data removed]",
      "text/plain": [
       "plot without title"
      ]
     },
     "metadata": {
      "image/png": {
       "height": 180,
       "width": 240
      }
     },
     "output_type": "display_data"
    }
   ],
   "source": [
    "options(repr.plot.width=4, repr.plot.height=3)\n",
    "barplot(sizeFactors(dds))"
   ]
  },
  {
   "cell_type": "code",
   "execution_count": 21,
   "metadata": {},
   "outputs": [
    {
     "data": {
      "image/png": "[encoded data removed]",
      "text/plain": [
       "plot without title"
      ]
     },
     "metadata": {
      "image/png": {
       "height": 180,
       "width": 240
      }
     },
     "output_type": "display_data"
    }
   ],
   "source": [
    "barplot(colSums(countData))"
   ]
  },
  {
   "cell_type": "code",
   "execution_count": 20,
   "metadata": {},
   "outputs": [
    {
     "data": {
      "image/png": "[encoded data removed]",
      "text/plain": [
       "plot without title"
      ]
     },
     "metadata": {
      "image/png": {
       "height": 300,
       "width": 300
      }
     },
     "output_type": "display_data"
    }
   ],
   "source": [
    "options(repr.plot.width=5, repr.plot.height=5)\n",
    "plot(data.frame(log10(counts(dds))), cex=0.1, col=alpha(\"black\", 0.4))"
   ]
  },
  {
   "cell_type": "markdown",
   "metadata": {},
   "source": [
    "### MA Plot\n",
    "\n",
    "The MA Plot shows the mean expression (normalized) vs the log fold change. The red dots on the graph represent the differentially expressed genes in our dataset. \n",
    "\n",
    "Since as the read number goes down, the variance increases, we see a more wide black part than we see red."
   ]
  },
  {
   "cell_type": "code",
   "execution_count": 21,
   "metadata": {},
   "outputs": [
    {
     "data": {
      "image/png": "[encoded data removed]",
      "text/plain": [
       "Plot with title “”"
      ]
     },
     "metadata": {
      "image/png": {
       "height": 240,
       "width": 300
      }
     },
     "output_type": "display_data"
    }
   ],
   "source": [
    "options(repr.plot.width=5, repr.plot.height=4)\n",
    "plotMA(dds,ylim=c(-3,3))"
   ]
  },
  {
   "cell_type": "markdown",
   "metadata": {},
   "source": [
    "## Exporting the Results"
   ]
  },
  {
   "cell_type": "code",
   "execution_count": 12,
   "metadata": {},
   "outputs": [
    {
     "data": {
      "text/plain": [
       "log2 fold change (MLE): condition M14 knockdown vs control \n",
       "Wald test p-value: condition M14 knockdown vs control \n",
       "DataFrame with 6 rows and 6 columns\n",
       "                baseMean    log2FoldChange             lfcSE              stat\n",
       "               <numeric>         <numeric>         <numeric>         <numeric>\n",
       "METTL14 2513.40922921558 -3.73578792553621 0.169485526858298 -22.0419288583833\n",
       "UCN2    909.924715343827 -4.32422613758515  0.20865220178185 -20.7245650928056\n",
       "RHOB    4722.60285079881 -3.10927295949502 0.152892236089241 -20.3363691906512\n",
       "TNFSF18 712.673729205223  3.88211593916872 0.215756435554037   17.993048175828\n",
       "CALM2   41617.3704898716 -2.93235791753157 0.164204761136585 -17.8579347957666\n",
       "DUSP1   9145.55505934299   2.5319937607002 0.149343436865701  16.9541682837869\n",
       "                       pvalue                  padj\n",
       "                    <numeric>             <numeric>\n",
       "METTL14 1.14168520902456e-107 1.89439826733445e-103\n",
       "UCN2     2.07998103085702e-95  1.72565626225052e-91\n",
       "RHOB     6.13044209581826e-92  3.39074752319708e-88\n",
       "TNFSF18  2.20867598510757e-72  9.16214015522249e-69\n",
       "CALM2    2.50746734344229e-71  8.32128112594758e-68\n",
       "DUSP1    1.79280349252139e-64  4.95799805856789e-61"
      ]
     },
     "metadata": {},
     "output_type": "display_data"
    }
   ],
   "source": [
    "res <- results(dds)\n",
    "res <- res[order(res$padj),]\n",
    "head(res)"
   ]
  },
  {
   "cell_type": "markdown",
   "metadata": {},
   "source": [
    "To find out how many genes are differentially expressed, we can easily count the ones that have a significant p-adjusted value. A significant p-adj value represents a significant log2 fold change."
   ]
  },
  {
   "cell_type": "code",
   "execution_count": 13,
   "metadata": {},
   "outputs": [
    {
     "data": {
      "text/html": [
       "<style>\n",
       ".list-inline {list-style: none; margin:0; padding: 0}\n",
       ".list-inline>li {display: inline-block}\n",
       ".list-inline>li:not(:last-child)::after {content: \"\\00b7\"; padding: 0 .5ex}\n",
       "</style>\n",
       "<ol class=list-inline><li>3319</li><li>6</li></ol>\n"
      ],
      "text/latex": [
       "\\begin{enumerate*}\n",
       "\\item 3319\n",
       "\\item 6\n",
       "\\end{enumerate*}\n"
      ],
      "text/markdown": [
       "1. 3319\n",
       "2. 6\n",
       "\n",
       "\n"
      ],
      "text/plain": [
       "[1] 3319    6"
      ]
     },
     "metadata": {},
     "output_type": "display_data"
    }
   ],
   "source": [
    "res.sign <- res[(!is.na(res$padj)) & (res$padj < 0.05),]\n",
    "dim(res.sign)"
   ]
  },
  {
   "cell_type": "code",
   "execution_count": 24,
   "metadata": {},
   "outputs": [
    {
     "data": {
      "image/png": "[encoded data removed]",
      "text/plain": [
       "Plot with title “frequencies of adj. p-values\n",
       "(all genes)”"
      ]
     },
     "metadata": {
      "image/png": {
       "height": 240,
       "width": 300
      }
     },
     "output_type": "display_data"
    }
   ],
   "source": [
    "hist(res$padj, \n",
    "     col=\"grey\", border=\"white\", xlab=\"\", ylab=\"\", main=\"frequencies of adj. p-values\\n(all genes)\")"
   ]
  },
  {
   "cell_type": "markdown",
   "metadata": {},
   "source": [
    "Below, we investigate the positive control genes and visualize their difference of expression in a scatter and barplot"
   ]
  },
  {
   "cell_type": "code",
   "execution_count": 16,
   "metadata": {},
   "outputs": [
    {
     "data": {
      "image/png": "[encoded data removed]",
      "text/plain": [
       "Plot with title “CCND1”"
      ]
     },
     "metadata": {
      "image/png": {
       "height": 180,
       "width": 240
      }
     },
     "output_type": "display_data"
    },
    {
     "data": {
      "image/png": "[encoded data removed]",
      "text/plain": [
       "Plot with title “YTHDF3”"
      ]
     },
     "metadata": {
      "image/png": {
       "height": 180,
       "width": 240
      }
     },
     "output_type": "display_data"
    }
   ],
   "source": [
    "par(mfrow=c(1,2))\n",
    "plotCounts(dds, gene=\"SMAD3\", normalized = TRUE)  \n",
    "plotCounts(dds, gene=\"CCND1\", normalized = TRUE)  \n",
    "plotCounts(dds, gene=\"YTHDF3\", normalized = TRUE)"
   ]
  },
  {
   "cell_type": "code",
   "execution_count": 20,
   "metadata": {},
   "outputs": [
    {
     "data": {
      "image/png": "[encoded data removed]",
      "text/plain": [
       "plot without title"
      ]
     },
     "metadata": {
      "image/png": {
       "height": 180,
       "width": 240
      }
     },
     "output_type": "display_data"
    },
    {
     "data": {
      "image/png": "[encoded data removed]",
      "text/plain": [
       "plot without title"
      ]
     },
     "metadata": {
      "image/png": {
       "height": 180,
       "width": 240
      }
     },
     "output_type": "display_data"
    }
   ],
   "source": [
    "barplot(counts(dds)[\"SMAD3\",])\n",
    "barplot(counts(dds)[\"CCND1\",])"
   ]
  },
  {
   "cell_type": "code",
   "execution_count": 25,
   "metadata": {},
   "outputs": [],
   "source": [
    "write.table(res, \"deseq.results.tsv\", sep=\"\\t\", col.names=NA, quote=FALSE)"
   ]
  }
 ],
 "metadata": {
  "kernelspec": {
   "display_name": "R",
   "language": "R",
   "name": "ir"
  },
  "language_info": {
   "codemirror_mode": "r",
   "file_extension": ".r",
   "mimetype": "text/x-r-source",
   "name": "R",
   "pygments_lexer": "r",
   "version": "3.6.3"
  }
 },
 "nbformat": 4,
 "nbformat_minor": 2
}
